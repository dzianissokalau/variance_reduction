{
 "cells": [
  {
   "cell_type": "markdown",
   "metadata": {},
   "source": [
    "# Reducing variance by removing between categories variance  \n",
    "When we speak about total variance we assume within group variance and the variance between groups. Hovewer if we try to split each group by certain categories (os, country, user segment etc) we will see that there is variance between and within user segments wich contributes to within group variance.  \n",
    "This (between user segments) variance, however, is not very useful and only increase within group variance. Fortunetely, we can get rid from it by simple adjustment:  \n",
    "Value adjusted = value * group mean / segment mean"
   ]
  },
  {
   "cell_type": "code",
   "execution_count": 1,
   "metadata": {},
   "outputs": [],
   "source": [
    "import pandas as pd\n",
    "import numpy as np\n",
    "from scipy import stats\n",
    "import json\n",
    "import matplotlib.pyplot as plt\n",
    "\n",
    "from google.cloud import storage\n",
    "from google.cloud import bigquery"
   ]
  },
  {
   "cell_type": "code",
   "execution_count": 2,
   "metadata": {},
   "outputs": [],
   "source": [
    "bigquery_client = bigquery.Client.from_service_account_json('../../credentials/data-analysis-sql-309220-6ce084250abd.json')\n",
    "storage_client = storage.Client.from_service_account_json('../../credentials/data-analysis-sql-309220-6ce084250abd.json')"
   ]
  },
  {
   "cell_type": "markdown",
   "metadata": {},
   "source": [
    "### Read data"
   ]
  },
  {
   "cell_type": "code",
   "execution_count": 52,
   "metadata": {},
   "outputs": [
    {
     "data": {
      "text/html": [
       "<div>\n",
       "<style scoped>\n",
       "    .dataframe tbody tr th:only-of-type {\n",
       "        vertical-align: middle;\n",
       "    }\n",
       "\n",
       "    .dataframe tbody tr th {\n",
       "        vertical-align: top;\n",
       "    }\n",
       "\n",
       "    .dataframe thead th {\n",
       "        text-align: right;\n",
       "    }\n",
       "</style>\n",
       "<table border=\"1\" class=\"dataframe\">\n",
       "  <thead>\n",
       "    <tr style=\"text-align: right;\">\n",
       "      <th></th>\n",
       "      <th>date</th>\n",
       "      <th>group</th>\n",
       "      <th>country</th>\n",
       "      <th>platform</th>\n",
       "      <th>amount</th>\n",
       "    </tr>\n",
       "  </thead>\n",
       "  <tbody>\n",
       "    <tr>\n",
       "      <th>0</th>\n",
       "      <td>2021-03-02</td>\n",
       "      <td>experimental</td>\n",
       "      <td>DE</td>\n",
       "      <td>web</td>\n",
       "      <td>9.96</td>\n",
       "    </tr>\n",
       "    <tr>\n",
       "      <th>1</th>\n",
       "      <td>2021-03-02</td>\n",
       "      <td>experimental</td>\n",
       "      <td>DE</td>\n",
       "      <td>ios</td>\n",
       "      <td>4.12</td>\n",
       "    </tr>\n",
       "    <tr>\n",
       "      <th>2</th>\n",
       "      <td>2021-03-02</td>\n",
       "      <td>control</td>\n",
       "      <td>DE</td>\n",
       "      <td>web</td>\n",
       "      <td>24.28</td>\n",
       "    </tr>\n",
       "    <tr>\n",
       "      <th>3</th>\n",
       "      <td>2021-03-02</td>\n",
       "      <td>experimental</td>\n",
       "      <td>DE</td>\n",
       "      <td>ios</td>\n",
       "      <td>27.53</td>\n",
       "    </tr>\n",
       "    <tr>\n",
       "      <th>4</th>\n",
       "      <td>2021-03-02</td>\n",
       "      <td>control</td>\n",
       "      <td>DE</td>\n",
       "      <td>web</td>\n",
       "      <td>8.35</td>\n",
       "    </tr>\n",
       "  </tbody>\n",
       "</table>\n",
       "</div>"
      ],
      "text/plain": [
       "         date         group country platform  amount\n",
       "0  2021-03-02  experimental      DE      web    9.96\n",
       "1  2021-03-02  experimental      DE      ios    4.12\n",
       "2  2021-03-02       control      DE      web   24.28\n",
       "3  2021-03-02  experimental      DE      ios   27.53\n",
       "4  2021-03-02       control      DE      web    8.35"
      ]
     },
     "execution_count": 52,
     "metadata": {},
     "output_type": "execute_result"
    }
   ],
   "source": [
    "query = '''\n",
    "SELECT date\n",
    "    , `group` AS `group`\n",
    "    , country\n",
    "    , platform\n",
    "    , amount\n",
    "FROM `data-analysis-sql-309220.synthetic.payments`\n",
    "LIMIT 10000\n",
    "'''\n",
    "\n",
    "\n",
    "query_job = bigquery_client.query(query)\n",
    "df = query_job.to_dataframe()\n",
    "df.head()"
   ]
  },
  {
   "cell_type": "code",
   "execution_count": 53,
   "metadata": {},
   "outputs": [
    {
     "data": {
      "image/png": "[encoded data removed]",
      "text/plain": [
       "<Figure size 432x288 with 1 Axes>"
      ]
     },
     "metadata": {
      "needs_background": "light"
     },
     "output_type": "display_data"
    }
   ],
   "source": [
    "df.loc[df.group == 'experimental', 'amount'].hist(bins=100);"
   ]
  },
  {
   "cell_type": "code",
   "execution_count": 54,
   "metadata": {},
   "outputs": [
    {
     "data": {
      "image/png": "[encoded data removed]",
      "text/plain": [
       "<Figure size 432x288 with 1 Axes>"
      ]
     },
     "metadata": {
      "needs_background": "light"
     },
     "output_type": "display_data"
    }
   ],
   "source": [
    "df.loc[df.group == 'control', 'amount'].hist(bins=100);"
   ]
  },
  {
   "cell_type": "code",
   "execution_count": 55,
   "metadata": {},
   "outputs": [
    {
     "data": {
      "text/plain": [
       "country\n",
       "DE    11.922600\n",
       "FR    10.661533\n",
       "IT     8.871289\n",
       "UK     9.300000\n",
       "Name: amount, dtype: float64"
      ]
     },
     "execution_count": 55,
     "metadata": {},
     "output_type": "execute_result"
    }
   ],
   "source": [
    "df.groupby('country')['amount'].mean()"
   ]
  },
  {
   "cell_type": "code",
   "execution_count": 56,
   "metadata": {},
   "outputs": [
    {
     "data": {
      "text/plain": [
       "platform\n",
       "android     9.807198\n",
       "ios        12.658309\n",
       "web         8.387113\n",
       "Name: amount, dtype: float64"
      ]
     },
     "execution_count": 56,
     "metadata": {},
     "output_type": "execute_result"
    }
   ],
   "source": [
    "df.groupby('platform')['amount'].mean()"
   ]
  },
  {
   "cell_type": "markdown",
   "metadata": {},
   "source": [
    "## Adjusting means"
   ]
  },
  {
   "cell_type": "markdown",
   "metadata": {},
   "source": [
    "#### by country"
   ]
  },
  {
   "cell_type": "code",
   "execution_count": 57,
   "metadata": {},
   "outputs": [],
   "source": [
    "# mean by groups\n",
    "df_group_mean = df.groupby('group')['amount'].mean().reset_index().rename(columns={'amount': 'group_mean'})\n",
    "\n",
    "# mean by country\n",
    "df_country_platform_mean = df.groupby(['group', 'country', 'platform'])['amount'].mean().reset_index().rename(columns={'amount': 'country_platform_mean'})"
   ]
  },
  {
   "cell_type": "code",
   "execution_count": 58,
   "metadata": {},
   "outputs": [
    {
     "data": {
      "text/html": [
       "<div>\n",
       "<style scoped>\n",
       "    .dataframe tbody tr th:only-of-type {\n",
       "        vertical-align: middle;\n",
       "    }\n",
       "\n",
       "    .dataframe tbody tr th {\n",
       "        vertical-align: top;\n",
       "    }\n",
       "\n",
       "    .dataframe thead th {\n",
       "        text-align: right;\n",
       "    }\n",
       "</style>\n",
       "<table border=\"1\" class=\"dataframe\">\n",
       "  <thead>\n",
       "    <tr style=\"text-align: right;\">\n",
       "      <th></th>\n",
       "      <th>date</th>\n",
       "      <th>group</th>\n",
       "      <th>country</th>\n",
       "      <th>platform</th>\n",
       "      <th>amount</th>\n",
       "      <th>group_mean</th>\n",
       "      <th>country_platform_mean</th>\n",
       "    </tr>\n",
       "  </thead>\n",
       "  <tbody>\n",
       "    <tr>\n",
       "      <th>0</th>\n",
       "      <td>2021-03-02</td>\n",
       "      <td>experimental</td>\n",
       "      <td>DE</td>\n",
       "      <td>web</td>\n",
       "      <td>9.96</td>\n",
       "      <td>10.350319</td>\n",
       "      <td>9.787069</td>\n",
       "    </tr>\n",
       "    <tr>\n",
       "      <th>1</th>\n",
       "      <td>2021-03-02</td>\n",
       "      <td>experimental</td>\n",
       "      <td>DE</td>\n",
       "      <td>ios</td>\n",
       "      <td>4.12</td>\n",
       "      <td>10.350319</td>\n",
       "      <td>15.542832</td>\n",
       "    </tr>\n",
       "    <tr>\n",
       "      <th>2</th>\n",
       "      <td>2021-03-02</td>\n",
       "      <td>control</td>\n",
       "      <td>DE</td>\n",
       "      <td>web</td>\n",
       "      <td>24.28</td>\n",
       "      <td>10.114852</td>\n",
       "      <td>10.976770</td>\n",
       "    </tr>\n",
       "    <tr>\n",
       "      <th>3</th>\n",
       "      <td>2021-03-02</td>\n",
       "      <td>experimental</td>\n",
       "      <td>DE</td>\n",
       "      <td>ios</td>\n",
       "      <td>27.53</td>\n",
       "      <td>10.350319</td>\n",
       "      <td>15.542832</td>\n",
       "    </tr>\n",
       "    <tr>\n",
       "      <th>4</th>\n",
       "      <td>2021-03-02</td>\n",
       "      <td>control</td>\n",
       "      <td>DE</td>\n",
       "      <td>web</td>\n",
       "      <td>8.35</td>\n",
       "      <td>10.114852</td>\n",
       "      <td>10.976770</td>\n",
       "    </tr>\n",
       "  </tbody>\n",
       "</table>\n",
       "</div>"
      ],
      "text/plain": [
       "         date         group country platform  amount  group_mean  \\\n",
       "0  2021-03-02  experimental      DE      web    9.96   10.350319   \n",
       "1  2021-03-02  experimental      DE      ios    4.12   10.350319   \n",
       "2  2021-03-02       control      DE      web   24.28   10.114852   \n",
       "3  2021-03-02  experimental      DE      ios   27.53   10.350319   \n",
       "4  2021-03-02       control      DE      web    8.35   10.114852   \n",
       "\n",
       "   country_platform_mean  \n",
       "0               9.787069  \n",
       "1              15.542832  \n",
       "2              10.976770  \n",
       "3              15.542832  \n",
       "4              10.976770  "
      ]
     },
     "execution_count": 58,
     "metadata": {},
     "output_type": "execute_result"
    }
   ],
   "source": [
    "df = df.merge(df_group_mean, how='left', on='group').merge(df_country_platform_mean, how='left', on=['group', 'country', 'platform'])\n",
    "\n",
    "df.head()"
   ]
  },
  {
   "cell_type": "code",
   "execution_count": 59,
   "metadata": {},
   "outputs": [],
   "source": [
    "df['amount_adj'] = df['amount'] * df['group_mean'] / df['country_platform_mean']"
   ]
  },
  {
   "cell_type": "code",
   "execution_count": 60,
   "metadata": {},
   "outputs": [
    {
     "data": {
      "text/html": [
       "<div>\n",
       "<style scoped>\n",
       "    .dataframe tbody tr th:only-of-type {\n",
       "        vertical-align: middle;\n",
       "    }\n",
       "\n",
       "    .dataframe tbody tr th {\n",
       "        vertical-align: top;\n",
       "    }\n",
       "\n",
       "    .dataframe thead tr th {\n",
       "        text-align: left;\n",
       "    }\n",
       "\n",
       "    .dataframe thead tr:last-of-type th {\n",
       "        text-align: right;\n",
       "    }\n",
       "</style>\n",
       "<table border=\"1\" class=\"dataframe\">\n",
       "  <thead>\n",
       "    <tr>\n",
       "      <th></th>\n",
       "      <th colspan=\"2\" halign=\"left\">amount</th>\n",
       "      <th colspan=\"2\" halign=\"left\">amount_adj</th>\n",
       "    </tr>\n",
       "    <tr>\n",
       "      <th></th>\n",
       "      <th>mean</th>\n",
       "      <th>std</th>\n",
       "      <th>mean</th>\n",
       "      <th>std</th>\n",
       "    </tr>\n",
       "    <tr>\n",
       "      <th>group</th>\n",
       "      <th></th>\n",
       "      <th></th>\n",
       "      <th></th>\n",
       "      <th></th>\n",
       "    </tr>\n",
       "  </thead>\n",
       "  <tbody>\n",
       "    <tr>\n",
       "      <th>control</th>\n",
       "      <td>10.114852</td>\n",
       "      <td>10.688564</td>\n",
       "      <td>10.114852</td>\n",
       "      <td>10.181630</td>\n",
       "    </tr>\n",
       "    <tr>\n",
       "      <th>experimental</th>\n",
       "      <td>10.350319</td>\n",
       "      <td>10.740507</td>\n",
       "      <td>10.350319</td>\n",
       "      <td>10.231475</td>\n",
       "    </tr>\n",
       "  </tbody>\n",
       "</table>\n",
       "</div>"
      ],
      "text/plain": [
       "                 amount            amount_adj           \n",
       "                   mean        std       mean        std\n",
       "group                                                   \n",
       "control       10.114852  10.688564  10.114852  10.181630\n",
       "experimental  10.350319  10.740507  10.350319  10.231475"
      ]
     },
     "execution_count": 60,
     "metadata": {},
     "output_type": "execute_result"
    }
   ],
   "source": [
    "df.groupby('group').agg({'amount': ['mean', 'std'], 'amount_adj': ['mean', 'std']})"
   ]
  },
  {
   "cell_type": "markdown",
   "metadata": {},
   "source": [
    "Although the variance drop is not that big in this particular eexample, it still alows to speed up conclusions.\n",
    "When user segmentation is more advanced than suggested (by country and platform), improvement can be much better."
   ]
  },
  {
   "cell_type": "code",
   "execution_count": null,
   "metadata": {},
   "outputs": [],
   "source": []
  }
 ],
 "metadata": {
  "kernelspec": {
   "display_name": "Python 3",
   "language": "python",
   "name": "python3"
  },
  "language_info": {
   "codemirror_mode": {
    "name": "ipython",
    "version": 3
   },
   "file_extension": ".py",
   "mimetype": "text/x-python",
   "name": "python",
   "nbconvert_exporter": "python",
   "pygments_lexer": "ipython3",
   "version": "3.8.2"
  }
 },
 "nbformat": 4,
 "nbformat_minor": 4
}
